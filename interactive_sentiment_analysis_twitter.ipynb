{
 "cells": [
  {
   "attachments": {},
   "cell_type": "markdown",
   "metadata": {},
   "source": [
    "### interactive_sentiment_analysis_twitter"
   ]
  },
  {
   "attachments": {},
   "cell_type": "markdown",
   "metadata": {},
   "source": [
    "Fazer uma análisador de sentimentos do Twitter sobre uma palavra chave informada pelo usuário.\n",
    "em tempo real e o usuário pode escolher a palavra chave a ser pesquisada por meio do PySimpleGUI\n",
    "o output será um gráfico que indica o percentual de tweets positivos, negativos e neutros.\n",
    "\n",
    "O programa faz uma análise de sentimentos do Twitter\n",
    "\n",
    "\n",
    "Referências\n",
    "https://medium.com/gabriel-luz/uma-breve-an%C3%A1lise-de-sentimentos-no-twitter-7d978f10e0d5\n",
    "https://paulovasconcellos.com.br/aprenda-a-fazer-um-analisador-de-sentimentos-do-twitter-em-python-3979454f2d0d\n",
    "https://www.analyticsvidhya.com/blog/2021/06/twitter-sentiment-analysis-a-nlp-use-case-for-beginners/\n",
    "https://huggingface.co/blog/sentiment-analysis-twitter\n",
    "https://developer.twitter.com/en/docs/tutorials/how-to-analyze-the-sentiment-of-your-own-tweets\n",
    "https://www.pysimplegui.org/en/latest/\n",
    "https://medium.com/@SrvZ/how-to-make-your-python-gui-look-awesome-9372c42d7df4\n",
    "https://www.youtube.com/watch?v=nh-NMicbU40\n",
    "\n",
    "Dependencies:\n",
    "pip install pandas\n",
    "pip install numpy\n",
    "pip install tweepy\n",
    "pip install -U textblob\n",
    "\n",
    "\n"
   ]
  },
  {
   "cell_type": "code",
   "execution_count": 3,
   "metadata": {},
   "outputs": [],
   "source": [
    "import pandas as pd\n",
    "import numpy as np\n",
    "import tweepy\n",
    "from textblob import TextBlob as tb"
   ]
  },
  {
   "cell_type": "code",
   "execution_count": null,
   "metadata": {},
   "outputs": [],
   "source": []
  }
 ],
 "metadata": {
  "kernelspec": {
   "display_name": "base",
   "language": "python",
   "name": "python3"
  },
  "language_info": {
   "codemirror_mode": {
    "name": "ipython",
    "version": 3
   },
   "file_extension": ".py",
   "mimetype": "text/x-python",
   "name": "python",
   "nbconvert_exporter": "python",
   "pygments_lexer": "ipython3",
   "version": "3.8.8 (default, Apr 13 2021, 15:08:03) [MSC v.1916 64 bit (AMD64)]"
  },
  "orig_nbformat": 4,
  "vscode": {
   "interpreter": {
    "hash": "843647808bdc8aadf04a746090941d0c53a004d0bb9ba8af56fa4771a23a1fde"
   }
  }
 },
 "nbformat": 4,
 "nbformat_minor": 2
}
